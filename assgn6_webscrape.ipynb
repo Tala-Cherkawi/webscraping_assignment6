{
  "nbformat": 4,
  "nbformat_minor": 0,
  "metadata": {
    "colab": {
      "provenance": []
    },
    "kernelspec": {
      "name": "python3",
      "display_name": "Python 3"
    },
    "language_info": {
      "name": "python"
    }
  },
  "cells": [
    {
      "cell_type": "code",
      "execution_count": 80,
      "metadata": {
        "id": "O1VfK8fVarg7"
      },
      "outputs": [],
      "source": [
        "import pandas as pd\n",
        "import numpy as np\n",
        "import matplotlib.pyplot as plt\n",
        "import seaborn as sns\n",
        "from sklearn.preprocessing import OneHotEncoder\n",
        "from sklearn.model_selection import train_test_split\n",
        "from sklearn.linear_model import LinearRegression\n",
        "from sklearn.metrics import mean_squared_error, r2_score, mean_absolute_error"
      ]
    },
    {
      "cell_type": "code",
      "source": [
        "df = pd.read_csv('cleaned_ebay_deals.csv')"
      ],
      "metadata": {
        "id": "EthbLiNGa96K"
      },
      "execution_count": 81,
      "outputs": []
    },
    {
      "cell_type": "code",
      "source": [
        "df.head()"
      ],
      "metadata": {
        "colab": {
          "base_uri": "https://localhost:8080/",
          "height": 642
        },
        "id": "QT6b5m2abJlu",
        "outputId": "a235cfd2-bda6-45ac-9e34-568e3a115dbd"
      },
      "execution_count": 82,
      "outputs": [
        {
          "output_type": "execute_result",
          "data": {
            "text/plain": [
              "             timestamp                                              title  \\\n",
              "0  2025-03-19 06:28:22  Klipsch R-120SWi 12\" High-Performance Wireless...   \n",
              "1  2025-03-19 06:28:22  Apple iPhone 14 Pro Max 128GB Network Unlocked...   \n",
              "2  2025-03-19 06:28:22  Apple iPhone 14 Pro Max 256GB Unlocked Very Go...   \n",
              "3  2025-03-19 06:28:22  Apple iPhone 14 Pro A2650 128GB Network Unlock...   \n",
              "4  2025-03-19 06:28:22  Apple iPhone 14 128GB Network Unlocked Very Go...   \n",
              "\n",
              "    price  original_price       shipping  \\\n",
              "0  159.99          179.99  Free shipping   \n",
              "1  499.99         1099.00  Free shipping   \n",
              "2  549.99         1199.00  Free shipping   \n",
              "3  414.99          899.00  Free shipping   \n",
              "4  305.99          749.00  Free shipping   \n",
              "\n",
              "                                                 url  discount_percentage  \n",
              "0  https://www.ebay.com/itm/365374754988?_trkparm...                11.11  \n",
              "1  https://www.ebay.com/itm/365374754988?_trkparm...                54.51  \n",
              "2  https://www.ebay.com/itm/365374754988?_trkparm...                54.13  \n",
              "3  https://www.ebay.com/itm/365374754988?_trkparm...                53.84  \n",
              "4  https://www.ebay.com/itm/365374754988?_trkparm...                59.15  "
            ],
            "text/html": [
              "\n",
              "  <div id=\"df-bf04683f-a3df-4576-9e9f-87035cd85f00\" class=\"colab-df-container\">\n",
              "    <div>\n",
              "<style scoped>\n",
              "    .dataframe tbody tr th:only-of-type {\n",
              "        vertical-align: middle;\n",
              "    }\n",
              "\n",
              "    .dataframe tbody tr th {\n",
              "        vertical-align: top;\n",
              "    }\n",
              "\n",
              "    .dataframe thead th {\n",
              "        text-align: right;\n",
              "    }\n",
              "</style>\n",
              "<table border=\"1\" class=\"dataframe\">\n",
              "  <thead>\n",
              "    <tr style=\"text-align: right;\">\n",
              "      <th></th>\n",
              "      <th>timestamp</th>\n",
              "      <th>title</th>\n",
              "      <th>price</th>\n",
              "      <th>original_price</th>\n",
              "      <th>shipping</th>\n",
              "      <th>url</th>\n",
              "      <th>discount_percentage</th>\n",
              "    </tr>\n",
              "  </thead>\n",
              "  <tbody>\n",
              "    <tr>\n",
              "      <th>0</th>\n",
              "      <td>2025-03-19 06:28:22</td>\n",
              "      <td>Klipsch R-120SWi 12\" High-Performance Wireless...</td>\n",
              "      <td>159.99</td>\n",
              "      <td>179.99</td>\n",
              "      <td>Free shipping</td>\n",
              "      <td>https://www.ebay.com/itm/365374754988?_trkparm...</td>\n",
              "      <td>11.11</td>\n",
              "    </tr>\n",
              "    <tr>\n",
              "      <th>1</th>\n",
              "      <td>2025-03-19 06:28:22</td>\n",
              "      <td>Apple iPhone 14 Pro Max 128GB Network Unlocked...</td>\n",
              "      <td>499.99</td>\n",
              "      <td>1099.00</td>\n",
              "      <td>Free shipping</td>\n",
              "      <td>https://www.ebay.com/itm/365374754988?_trkparm...</td>\n",
              "      <td>54.51</td>\n",
              "    </tr>\n",
              "    <tr>\n",
              "      <th>2</th>\n",
              "      <td>2025-03-19 06:28:22</td>\n",
              "      <td>Apple iPhone 14 Pro Max 256GB Unlocked Very Go...</td>\n",
              "      <td>549.99</td>\n",
              "      <td>1199.00</td>\n",
              "      <td>Free shipping</td>\n",
              "      <td>https://www.ebay.com/itm/365374754988?_trkparm...</td>\n",
              "      <td>54.13</td>\n",
              "    </tr>\n",
              "    <tr>\n",
              "      <th>3</th>\n",
              "      <td>2025-03-19 06:28:22</td>\n",
              "      <td>Apple iPhone 14 Pro A2650 128GB Network Unlock...</td>\n",
              "      <td>414.99</td>\n",
              "      <td>899.00</td>\n",
              "      <td>Free shipping</td>\n",
              "      <td>https://www.ebay.com/itm/365374754988?_trkparm...</td>\n",
              "      <td>53.84</td>\n",
              "    </tr>\n",
              "    <tr>\n",
              "      <th>4</th>\n",
              "      <td>2025-03-19 06:28:22</td>\n",
              "      <td>Apple iPhone 14 128GB Network Unlocked Very Go...</td>\n",
              "      <td>305.99</td>\n",
              "      <td>749.00</td>\n",
              "      <td>Free shipping</td>\n",
              "      <td>https://www.ebay.com/itm/365374754988?_trkparm...</td>\n",
              "      <td>59.15</td>\n",
              "    </tr>\n",
              "  </tbody>\n",
              "</table>\n",
              "</div>\n",
              "    <div class=\"colab-df-buttons\">\n",
              "\n",
              "  <div class=\"colab-df-container\">\n",
              "    <button class=\"colab-df-convert\" onclick=\"convertToInteractive('df-bf04683f-a3df-4576-9e9f-87035cd85f00')\"\n",
              "            title=\"Convert this dataframe to an interactive table.\"\n",
              "            style=\"display:none;\">\n",
              "\n",
              "  <svg xmlns=\"http://www.w3.org/2000/svg\" height=\"24px\" viewBox=\"0 -960 960 960\">\n",
              "    <path d=\"M120-120v-720h720v720H120Zm60-500h600v-160H180v160Zm220 220h160v-160H400v160Zm0 220h160v-160H400v160ZM180-400h160v-160H180v160Zm440 0h160v-160H620v160ZM180-180h160v-160H180v160Zm440 0h160v-160H620v160Z\"/>\n",
              "  </svg>\n",
              "    </button>\n",
              "\n",
              "  <style>\n",
              "    .colab-df-container {\n",
              "      display:flex;\n",
              "      gap: 12px;\n",
              "    }\n",
              "\n",
              "    .colab-df-convert {\n",
              "      background-color: #E8F0FE;\n",
              "      border: none;\n",
              "      border-radius: 50%;\n",
              "      cursor: pointer;\n",
              "      display: none;\n",
              "      fill: #1967D2;\n",
              "      height: 32px;\n",
              "      padding: 0 0 0 0;\n",
              "      width: 32px;\n",
              "    }\n",
              "\n",
              "    .colab-df-convert:hover {\n",
              "      background-color: #E2EBFA;\n",
              "      box-shadow: 0px 1px 2px rgba(60, 64, 67, 0.3), 0px 1px 3px 1px rgba(60, 64, 67, 0.15);\n",
              "      fill: #174EA6;\n",
              "    }\n",
              "\n",
              "    .colab-df-buttons div {\n",
              "      margin-bottom: 4px;\n",
              "    }\n",
              "\n",
              "    [theme=dark] .colab-df-convert {\n",
              "      background-color: #3B4455;\n",
              "      fill: #D2E3FC;\n",
              "    }\n",
              "\n",
              "    [theme=dark] .colab-df-convert:hover {\n",
              "      background-color: #434B5C;\n",
              "      box-shadow: 0px 1px 3px 1px rgba(0, 0, 0, 0.15);\n",
              "      filter: drop-shadow(0px 1px 2px rgba(0, 0, 0, 0.3));\n",
              "      fill: #FFFFFF;\n",
              "    }\n",
              "  </style>\n",
              "\n",
              "    <script>\n",
              "      const buttonEl =\n",
              "        document.querySelector('#df-bf04683f-a3df-4576-9e9f-87035cd85f00 button.colab-df-convert');\n",
              "      buttonEl.style.display =\n",
              "        google.colab.kernel.accessAllowed ? 'block' : 'none';\n",
              "\n",
              "      async function convertToInteractive(key) {\n",
              "        const element = document.querySelector('#df-bf04683f-a3df-4576-9e9f-87035cd85f00');\n",
              "        const dataTable =\n",
              "          await google.colab.kernel.invokeFunction('convertToInteractive',\n",
              "                                                    [key], {});\n",
              "        if (!dataTable) return;\n",
              "\n",
              "        const docLinkHtml = 'Like what you see? Visit the ' +\n",
              "          '<a target=\"_blank\" href=https://colab.research.google.com/notebooks/data_table.ipynb>data table notebook</a>'\n",
              "          + ' to learn more about interactive tables.';\n",
              "        element.innerHTML = '';\n",
              "        dataTable['output_type'] = 'display_data';\n",
              "        await google.colab.output.renderOutput(dataTable, element);\n",
              "        const docLink = document.createElement('div');\n",
              "        docLink.innerHTML = docLinkHtml;\n",
              "        element.appendChild(docLink);\n",
              "      }\n",
              "    </script>\n",
              "  </div>\n",
              "\n",
              "\n",
              "<div id=\"df-e700c134-43a4-4ed0-aa0e-b6c18259028b\">\n",
              "  <button class=\"colab-df-quickchart\" onclick=\"quickchart('df-e700c134-43a4-4ed0-aa0e-b6c18259028b')\"\n",
              "            title=\"Suggest charts\"\n",
              "            style=\"display:none;\">\n",
              "\n",
              "<svg xmlns=\"http://www.w3.org/2000/svg\" height=\"24px\"viewBox=\"0 0 24 24\"\n",
              "     width=\"24px\">\n",
              "    <g>\n",
              "        <path d=\"M19 3H5c-1.1 0-2 .9-2 2v14c0 1.1.9 2 2 2h14c1.1 0 2-.9 2-2V5c0-1.1-.9-2-2-2zM9 17H7v-7h2v7zm4 0h-2V7h2v10zm4 0h-2v-4h2v4z\"/>\n",
              "    </g>\n",
              "</svg>\n",
              "  </button>\n",
              "\n",
              "<style>\n",
              "  .colab-df-quickchart {\n",
              "      --bg-color: #E8F0FE;\n",
              "      --fill-color: #1967D2;\n",
              "      --hover-bg-color: #E2EBFA;\n",
              "      --hover-fill-color: #174EA6;\n",
              "      --disabled-fill-color: #AAA;\n",
              "      --disabled-bg-color: #DDD;\n",
              "  }\n",
              "\n",
              "  [theme=dark] .colab-df-quickchart {\n",
              "      --bg-color: #3B4455;\n",
              "      --fill-color: #D2E3FC;\n",
              "      --hover-bg-color: #434B5C;\n",
              "      --hover-fill-color: #FFFFFF;\n",
              "      --disabled-bg-color: #3B4455;\n",
              "      --disabled-fill-color: #666;\n",
              "  }\n",
              "\n",
              "  .colab-df-quickchart {\n",
              "    background-color: var(--bg-color);\n",
              "    border: none;\n",
              "    border-radius: 50%;\n",
              "    cursor: pointer;\n",
              "    display: none;\n",
              "    fill: var(--fill-color);\n",
              "    height: 32px;\n",
              "    padding: 0;\n",
              "    width: 32px;\n",
              "  }\n",
              "\n",
              "  .colab-df-quickchart:hover {\n",
              "    background-color: var(--hover-bg-color);\n",
              "    box-shadow: 0 1px 2px rgba(60, 64, 67, 0.3), 0 1px 3px 1px rgba(60, 64, 67, 0.15);\n",
              "    fill: var(--button-hover-fill-color);\n",
              "  }\n",
              "\n",
              "  .colab-df-quickchart-complete:disabled,\n",
              "  .colab-df-quickchart-complete:disabled:hover {\n",
              "    background-color: var(--disabled-bg-color);\n",
              "    fill: var(--disabled-fill-color);\n",
              "    box-shadow: none;\n",
              "  }\n",
              "\n",
              "  .colab-df-spinner {\n",
              "    border: 2px solid var(--fill-color);\n",
              "    border-color: transparent;\n",
              "    border-bottom-color: var(--fill-color);\n",
              "    animation:\n",
              "      spin 1s steps(1) infinite;\n",
              "  }\n",
              "\n",
              "  @keyframes spin {\n",
              "    0% {\n",
              "      border-color: transparent;\n",
              "      border-bottom-color: var(--fill-color);\n",
              "      border-left-color: var(--fill-color);\n",
              "    }\n",
              "    20% {\n",
              "      border-color: transparent;\n",
              "      border-left-color: var(--fill-color);\n",
              "      border-top-color: var(--fill-color);\n",
              "    }\n",
              "    30% {\n",
              "      border-color: transparent;\n",
              "      border-left-color: var(--fill-color);\n",
              "      border-top-color: var(--fill-color);\n",
              "      border-right-color: var(--fill-color);\n",
              "    }\n",
              "    40% {\n",
              "      border-color: transparent;\n",
              "      border-right-color: var(--fill-color);\n",
              "      border-top-color: var(--fill-color);\n",
              "    }\n",
              "    60% {\n",
              "      border-color: transparent;\n",
              "      border-right-color: var(--fill-color);\n",
              "    }\n",
              "    80% {\n",
              "      border-color: transparent;\n",
              "      border-right-color: var(--fill-color);\n",
              "      border-bottom-color: var(--fill-color);\n",
              "    }\n",
              "    90% {\n",
              "      border-color: transparent;\n",
              "      border-bottom-color: var(--fill-color);\n",
              "    }\n",
              "  }\n",
              "</style>\n",
              "\n",
              "  <script>\n",
              "    async function quickchart(key) {\n",
              "      const quickchartButtonEl =\n",
              "        document.querySelector('#' + key + ' button');\n",
              "      quickchartButtonEl.disabled = true;  // To prevent multiple clicks.\n",
              "      quickchartButtonEl.classList.add('colab-df-spinner');\n",
              "      try {\n",
              "        const charts = await google.colab.kernel.invokeFunction(\n",
              "            'suggestCharts', [key], {});\n",
              "      } catch (error) {\n",
              "        console.error('Error during call to suggestCharts:', error);\n",
              "      }\n",
              "      quickchartButtonEl.classList.remove('colab-df-spinner');\n",
              "      quickchartButtonEl.classList.add('colab-df-quickchart-complete');\n",
              "    }\n",
              "    (() => {\n",
              "      let quickchartButtonEl =\n",
              "        document.querySelector('#df-e700c134-43a4-4ed0-aa0e-b6c18259028b button');\n",
              "      quickchartButtonEl.style.display =\n",
              "        google.colab.kernel.accessAllowed ? 'block' : 'none';\n",
              "    })();\n",
              "  </script>\n",
              "</div>\n",
              "\n",
              "    </div>\n",
              "  </div>\n"
            ],
            "application/vnd.google.colaboratory.intrinsic+json": {
              "type": "dataframe",
              "variable_name": "df",
              "summary": "{\n  \"name\": \"df\",\n  \"rows\": 3975,\n  \"fields\": [\n    {\n      \"column\": \"timestamp\",\n      \"properties\": {\n        \"dtype\": \"object\",\n        \"num_unique_values\": 2734,\n        \"samples\": [\n          \"2025-03-28 01:50:54\",\n          \"2025-04-01 12:49:58\",\n          \"2025-04-05 21:22:14\"\n        ],\n        \"semantic_type\": \"\",\n        \"description\": \"\"\n      }\n    },\n    {\n      \"column\": \"title\",\n      \"properties\": {\n        \"dtype\": \"category\",\n        \"num_unique_values\": 535,\n        \"samples\": [\n          \"Acer UT2 21.5\\\" Monitor Full HD LCD Display 60Hz 1920x1080 Certified Refurbished\",\n          \"Samsung Galaxy S22+ 5G SM-S906U1 128GB 256GB Factory Unlocked Excellent\",\n          \"Apple Watch Series 10 GPS + Cellular 42mm Smartwatch Aluminium Case - Excellent\"\n        ],\n        \"semantic_type\": \"\",\n        \"description\": \"\"\n      }\n    },\n    {\n      \"column\": \"price\",\n      \"properties\": {\n        \"dtype\": \"number\",\n        \"std\": 573.8543741602841,\n        \"min\": 3.99,\n        \"max\": 3849.0,\n        \"num_unique_values\": 480,\n        \"samples\": [\n          98.99,\n          492.95,\n          237.99\n        ],\n        \"semantic_type\": \"\",\n        \"description\": \"\"\n      }\n    },\n    {\n      \"column\": \"original_price\",\n      \"properties\": {\n        \"dtype\": \"number\",\n        \"std\": 884.2604865233366,\n        \"min\": 10.91,\n        \"max\": 4599.0,\n        \"num_unique_values\": 224,\n        \"samples\": [\n          699.0,\n          207.0,\n          149.99\n        ],\n        \"semantic_type\": \"\",\n        \"description\": \"\"\n      }\n    },\n    {\n      \"column\": \"shipping\",\n      \"properties\": {\n        \"dtype\": \"category\",\n        \"num_unique_values\": 2,\n        \"samples\": [\n          \"Shipping info unavailable\",\n          \"Free shipping\"\n        ],\n        \"semantic_type\": \"\",\n        \"description\": \"\"\n      }\n    },\n    {\n      \"column\": \"url\",\n      \"properties\": {\n        \"dtype\": \"category\",\n        \"num_unique_values\": 34,\n        \"samples\": [\n          \"https://www.ebay.com/itm/405414674092?_trkparms=5373%3A5000006400%7C5374%3ATech%7C5079%3A5000006400\",\n          \"https://www.ebay.com/itm/175804626117?_trkparms=5373%3A5000006400%7C5374%3ATech%7C5079%3A5000006400\"\n        ],\n        \"semantic_type\": \"\",\n        \"description\": \"\"\n      }\n    },\n    {\n      \"column\": \"discount_percentage\",\n      \"properties\": {\n        \"dtype\": \"number\",\n        \"std\": 20.021826995268952,\n        \"min\": 0.0,\n        \"max\": 89.75,\n        \"num_unique_values\": 569,\n        \"samples\": [\n          37.78,\n          40.02\n        ],\n        \"semantic_type\": \"\",\n        \"description\": \"\"\n      }\n    }\n  ]\n}"
            }
          },
          "metadata": {},
          "execution_count": 82
        }
      ]
    },
    {
      "cell_type": "code",
      "source": [
        "df.isnull().sum()"
      ],
      "metadata": {
        "colab": {
          "base_uri": "https://localhost:8080/",
          "height": 303
        },
        "id": "4NZxBznacSdY",
        "outputId": "69dffb58-0ce5-4c7a-a50b-9ae6cf43d47a"
      },
      "execution_count": 83,
      "outputs": [
        {
          "output_type": "execute_result",
          "data": {
            "text/plain": [
              "timestamp              0\n",
              "title                  0\n",
              "price                  0\n",
              "original_price         0\n",
              "shipping               0\n",
              "url                    0\n",
              "discount_percentage    0\n",
              "dtype: int64"
            ],
            "text/html": [
              "<div>\n",
              "<style scoped>\n",
              "    .dataframe tbody tr th:only-of-type {\n",
              "        vertical-align: middle;\n",
              "    }\n",
              "\n",
              "    .dataframe tbody tr th {\n",
              "        vertical-align: top;\n",
              "    }\n",
              "\n",
              "    .dataframe thead th {\n",
              "        text-align: right;\n",
              "    }\n",
              "</style>\n",
              "<table border=\"1\" class=\"dataframe\">\n",
              "  <thead>\n",
              "    <tr style=\"text-align: right;\">\n",
              "      <th></th>\n",
              "      <th>0</th>\n",
              "    </tr>\n",
              "  </thead>\n",
              "  <tbody>\n",
              "    <tr>\n",
              "      <th>timestamp</th>\n",
              "      <td>0</td>\n",
              "    </tr>\n",
              "    <tr>\n",
              "      <th>title</th>\n",
              "      <td>0</td>\n",
              "    </tr>\n",
              "    <tr>\n",
              "      <th>price</th>\n",
              "      <td>0</td>\n",
              "    </tr>\n",
              "    <tr>\n",
              "      <th>original_price</th>\n",
              "      <td>0</td>\n",
              "    </tr>\n",
              "    <tr>\n",
              "      <th>shipping</th>\n",
              "      <td>0</td>\n",
              "    </tr>\n",
              "    <tr>\n",
              "      <th>url</th>\n",
              "      <td>0</td>\n",
              "    </tr>\n",
              "    <tr>\n",
              "      <th>discount_percentage</th>\n",
              "      <td>0</td>\n",
              "    </tr>\n",
              "  </tbody>\n",
              "</table>\n",
              "</div><br><label><b>dtype:</b> int64</label>"
            ]
          },
          "metadata": {},
          "execution_count": 83
        }
      ]
    },
    {
      "cell_type": "code",
      "source": [
        "df = df.dropna(subset=[\"price\", \"original_price\", \"shipping\", \"discount_percentage\"])"
      ],
      "metadata": {
        "id": "tlUU5yAH0l0M"
      },
      "execution_count": 84,
      "outputs": []
    },
    {
      "cell_type": "code",
      "source": [
        "df.info()"
      ],
      "metadata": {
        "colab": {
          "base_uri": "https://localhost:8080/"
        },
        "id": "JUp42YIHdWiy",
        "outputId": "fba054be-0694-4536-f475-93ba2684d59b"
      },
      "execution_count": 85,
      "outputs": [
        {
          "output_type": "stream",
          "name": "stdout",
          "text": [
            "<class 'pandas.core.frame.DataFrame'>\n",
            "RangeIndex: 3975 entries, 0 to 3974\n",
            "Data columns (total 7 columns):\n",
            " #   Column               Non-Null Count  Dtype  \n",
            "---  ------               --------------  -----  \n",
            " 0   timestamp            3975 non-null   object \n",
            " 1   title                3975 non-null   object \n",
            " 2   price                3975 non-null   float64\n",
            " 3   original_price       3975 non-null   float64\n",
            " 4   shipping             3975 non-null   object \n",
            " 5   url                  3975 non-null   object \n",
            " 6   discount_percentage  3975 non-null   float64\n",
            "dtypes: float64(3), object(4)\n",
            "memory usage: 217.5+ KB\n"
          ]
        }
      ]
    },
    {
      "cell_type": "code",
      "source": [
        "plt.figure(figsize=(10, 8))\n",
        "sns.histplot(df['discount_percentage'], bins=10, color='skyblue', edgecolor='black')\n",
        "plt.title('Histogram of Discount Percentage')\n",
        "plt.xlabel('Discount Percentage')\n",
        "plt.show()\n",
        "\n"
      ],
      "metadata": {
        "colab": {
          "base_uri": "https://localhost:8080/",
          "height": 640
        },
        "id": "mZVj3wpJcXmn",
        "outputId": "aba16627-a7ac-4742-e066-955c798164e7"
      },
      "execution_count": 86,
      "outputs": [
        {
          "output_type": "display_data",
          "data": {
            "text/plain": [
              "<Figure size 1000x800 with 1 Axes>"
            ],
            "image/png": "[encoded data removed]"
          },
          "metadata": {}
        }
      ]
    },
    {
      "cell_type": "code",
      "source": [
        "bins = [0, 10, 30, float('inf')]\n",
        "labels = ['Low', 'Medium', 'High']\n",
        "\n",
        "df['discount_bin'] = pd.cut(df['discount_percentage'], bins=bins, labels=labels, include_lowest=True)\n",
        "\n",
        "\n",
        "df[['discount_percentage', 'discount_bin']].head(10)\n"
      ],
      "metadata": {
        "colab": {
          "base_uri": "https://localhost:8080/",
          "height": 363
        },
        "id": "vFbFB3Zbd8oh",
        "outputId": "5cd2d70f-cf30-4417-95f9-52d2432da0a3"
      },
      "execution_count": 87,
      "outputs": [
        {
          "output_type": "execute_result",
          "data": {
            "text/plain": [
              "   discount_percentage discount_bin\n",
              "0                11.11       Medium\n",
              "1                54.51         High\n",
              "2                54.13         High\n",
              "3                53.84         High\n",
              "4                59.15         High\n",
              "5                54.46         High\n",
              "6                47.46         High\n",
              "7                49.22         High\n",
              "8                53.50         High\n",
              "9                62.38         High"
            ],
            "text/html": [
              "\n",
              "  <div id=\"df-935971d4-bccc-4679-93ca-f406dd7a6068\" class=\"colab-df-container\">\n",
              "    <div>\n",
              "<style scoped>\n",
              "    .dataframe tbody tr th:only-of-type {\n",
              "        vertical-align: middle;\n",
              "    }\n",
              "\n",
              "    .dataframe tbody tr th {\n",
              "        vertical-align: top;\n",
              "    }\n",
              "\n",
              "    .dataframe thead th {\n",
              "        text-align: right;\n",
              "    }\n",
              "</style>\n",
              "<table border=\"1\" class=\"dataframe\">\n",
              "  <thead>\n",
              "    <tr style=\"text-align: right;\">\n",
              "      <th></th>\n",
              "      <th>discount_percentage</th>\n",
              "      <th>discount_bin</th>\n",
              "    </tr>\n",
              "  </thead>\n",
              "  <tbody>\n",
              "    <tr>\n",
              "      <th>0</th>\n",
              "      <td>11.11</td>\n",
              "      <td>Medium</td>\n",
              "    </tr>\n",
              "    <tr>\n",
              "      <th>1</th>\n",
              "      <td>54.51</td>\n",
              "      <td>High</td>\n",
              "    </tr>\n",
              "    <tr>\n",
              "      <th>2</th>\n",
              "      <td>54.13</td>\n",
              "      <td>High</td>\n",
              "    </tr>\n",
              "    <tr>\n",
              "      <th>3</th>\n",
              "      <td>53.84</td>\n",
              "      <td>High</td>\n",
              "    </tr>\n",
              "    <tr>\n",
              "      <th>4</th>\n",
              "      <td>59.15</td>\n",
              "      <td>High</td>\n",
              "    </tr>\n",
              "    <tr>\n",
              "      <th>5</th>\n",
              "      <td>54.46</td>\n",
              "      <td>High</td>\n",
              "    </tr>\n",
              "    <tr>\n",
              "      <th>6</th>\n",
              "      <td>47.46</td>\n",
              "      <td>High</td>\n",
              "    </tr>\n",
              "    <tr>\n",
              "      <th>7</th>\n",
              "      <td>49.22</td>\n",
              "      <td>High</td>\n",
              "    </tr>\n",
              "    <tr>\n",
              "      <th>8</th>\n",
              "      <td>53.50</td>\n",
              "      <td>High</td>\n",
              "    </tr>\n",
              "    <tr>\n",
              "      <th>9</th>\n",
              "      <td>62.38</td>\n",
              "      <td>High</td>\n",
              "    </tr>\n",
              "  </tbody>\n",
              "</table>\n",
              "</div>\n",
              "    <div class=\"colab-df-buttons\">\n",
              "\n",
              "  <div class=\"colab-df-container\">\n",
              "    <button class=\"colab-df-convert\" onclick=\"convertToInteractive('df-935971d4-bccc-4679-93ca-f406dd7a6068')\"\n",
              "            title=\"Convert this dataframe to an interactive table.\"\n",
              "            style=\"display:none;\">\n",
              "\n",
              "  <svg xmlns=\"http://www.w3.org/2000/svg\" height=\"24px\" viewBox=\"0 -960 960 960\">\n",
              "    <path d=\"M120-120v-720h720v720H120Zm60-500h600v-160H180v160Zm220 220h160v-160H400v160Zm0 220h160v-160H400v160ZM180-400h160v-160H180v160Zm440 0h160v-160H620v160ZM180-180h160v-160H180v160Zm440 0h160v-160H620v160Z\"/>\n",
              "  </svg>\n",
              "    </button>\n",
              "\n",
              "  <style>\n",
              "    .colab-df-container {\n",
              "      display:flex;\n",
              "      gap: 12px;\n",
              "    }\n",
              "\n",
              "    .colab-df-convert {\n",
              "      background-color: #E8F0FE;\n",
              "      border: none;\n",
              "      border-radius: 50%;\n",
              "      cursor: pointer;\n",
              "      display: none;\n",
              "      fill: #1967D2;\n",
              "      height: 32px;\n",
              "      padding: 0 0 0 0;\n",
              "      width: 32px;\n",
              "    }\n",
              "\n",
              "    .colab-df-convert:hover {\n",
              "      background-color: #E2EBFA;\n",
              "      box-shadow: 0px 1px 2px rgba(60, 64, 67, 0.3), 0px 1px 3px 1px rgba(60, 64, 67, 0.15);\n",
              "      fill: #174EA6;\n",
              "    }\n",
              "\n",
              "    .colab-df-buttons div {\n",
              "      margin-bottom: 4px;\n",
              "    }\n",
              "\n",
              "    [theme=dark] .colab-df-convert {\n",
              "      background-color: #3B4455;\n",
              "      fill: #D2E3FC;\n",
              "    }\n",
              "\n",
              "    [theme=dark] .colab-df-convert:hover {\n",
              "      background-color: #434B5C;\n",
              "      box-shadow: 0px 1px 3px 1px rgba(0, 0, 0, 0.15);\n",
              "      filter: drop-shadow(0px 1px 2px rgba(0, 0, 0, 0.3));\n",
              "      fill: #FFFFFF;\n",
              "    }\n",
              "  </style>\n",
              "\n",
              "    <script>\n",
              "      const buttonEl =\n",
              "        document.querySelector('#df-935971d4-bccc-4679-93ca-f406dd7a6068 button.colab-df-convert');\n",
              "      buttonEl.style.display =\n",
              "        google.colab.kernel.accessAllowed ? 'block' : 'none';\n",
              "\n",
              "      async function convertToInteractive(key) {\n",
              "        const element = document.querySelector('#df-935971d4-bccc-4679-93ca-f406dd7a6068');\n",
              "        const dataTable =\n",
              "          await google.colab.kernel.invokeFunction('convertToInteractive',\n",
              "                                                    [key], {});\n",
              "        if (!dataTable) return;\n",
              "\n",
              "        const docLinkHtml = 'Like what you see? Visit the ' +\n",
              "          '<a target=\"_blank\" href=https://colab.research.google.com/notebooks/data_table.ipynb>data table notebook</a>'\n",
              "          + ' to learn more about interactive tables.';\n",
              "        element.innerHTML = '';\n",
              "        dataTable['output_type'] = 'display_data';\n",
              "        await google.colab.output.renderOutput(dataTable, element);\n",
              "        const docLink = document.createElement('div');\n",
              "        docLink.innerHTML = docLinkHtml;\n",
              "        element.appendChild(docLink);\n",
              "      }\n",
              "    </script>\n",
              "  </div>\n",
              "\n",
              "\n",
              "<div id=\"df-adff4075-6e8f-4d7a-af49-9b7ba5203562\">\n",
              "  <button class=\"colab-df-quickchart\" onclick=\"quickchart('df-adff4075-6e8f-4d7a-af49-9b7ba5203562')\"\n",
              "            title=\"Suggest charts\"\n",
              "            style=\"display:none;\">\n",
              "\n",
              "<svg xmlns=\"http://www.w3.org/2000/svg\" height=\"24px\"viewBox=\"0 0 24 24\"\n",
              "     width=\"24px\">\n",
              "    <g>\n",
              "        <path d=\"M19 3H5c-1.1 0-2 .9-2 2v14c0 1.1.9 2 2 2h14c1.1 0 2-.9 2-2V5c0-1.1-.9-2-2-2zM9 17H7v-7h2v7zm4 0h-2V7h2v10zm4 0h-2v-4h2v4z\"/>\n",
              "    </g>\n",
              "</svg>\n",
              "  </button>\n",
              "\n",
              "<style>\n",
              "  .colab-df-quickchart {\n",
              "      --bg-color: #E8F0FE;\n",
              "      --fill-color: #1967D2;\n",
              "      --hover-bg-color: #E2EBFA;\n",
              "      --hover-fill-color: #174EA6;\n",
              "      --disabled-fill-color: #AAA;\n",
              "      --disabled-bg-color: #DDD;\n",
              "  }\n",
              "\n",
              "  [theme=dark] .colab-df-quickchart {\n",
              "      --bg-color: #3B4455;\n",
              "      --fill-color: #D2E3FC;\n",
              "      --hover-bg-color: #434B5C;\n",
              "      --hover-fill-color: #FFFFFF;\n",
              "      --disabled-bg-color: #3B4455;\n",
              "      --disabled-fill-color: #666;\n",
              "  }\n",
              "\n",
              "  .colab-df-quickchart {\n",
              "    background-color: var(--bg-color);\n",
              "    border: none;\n",
              "    border-radius: 50%;\n",
              "    cursor: pointer;\n",
              "    display: none;\n",
              "    fill: var(--fill-color);\n",
              "    height: 32px;\n",
              "    padding: 0;\n",
              "    width: 32px;\n",
              "  }\n",
              "\n",
              "  .colab-df-quickchart:hover {\n",
              "    background-color: var(--hover-bg-color);\n",
              "    box-shadow: 0 1px 2px rgba(60, 64, 67, 0.3), 0 1px 3px 1px rgba(60, 64, 67, 0.15);\n",
              "    fill: var(--button-hover-fill-color);\n",
              "  }\n",
              "\n",
              "  .colab-df-quickchart-complete:disabled,\n",
              "  .colab-df-quickchart-complete:disabled:hover {\n",
              "    background-color: var(--disabled-bg-color);\n",
              "    fill: var(--disabled-fill-color);\n",
              "    box-shadow: none;\n",
              "  }\n",
              "\n",
              "  .colab-df-spinner {\n",
              "    border: 2px solid var(--fill-color);\n",
              "    border-color: transparent;\n",
              "    border-bottom-color: var(--fill-color);\n",
              "    animation:\n",
              "      spin 1s steps(1) infinite;\n",
              "  }\n",
              "\n",
              "  @keyframes spin {\n",
              "    0% {\n",
              "      border-color: transparent;\n",
              "      border-bottom-color: var(--fill-color);\n",
              "      border-left-color: var(--fill-color);\n",
              "    }\n",
              "    20% {\n",
              "      border-color: transparent;\n",
              "      border-left-color: var(--fill-color);\n",
              "      border-top-color: var(--fill-color);\n",
              "    }\n",
              "    30% {\n",
              "      border-color: transparent;\n",
              "      border-left-color: var(--fill-color);\n",
              "      border-top-color: var(--fill-color);\n",
              "      border-right-color: var(--fill-color);\n",
              "    }\n",
              "    40% {\n",
              "      border-color: transparent;\n",
              "      border-right-color: var(--fill-color);\n",
              "      border-top-color: var(--fill-color);\n",
              "    }\n",
              "    60% {\n",
              "      border-color: transparent;\n",
              "      border-right-color: var(--fill-color);\n",
              "    }\n",
              "    80% {\n",
              "      border-color: transparent;\n",
              "      border-right-color: var(--fill-color);\n",
              "      border-bottom-color: var(--fill-color);\n",
              "    }\n",
              "    90% {\n",
              "      border-color: transparent;\n",
              "      border-bottom-color: var(--fill-color);\n",
              "    }\n",
              "  }\n",
              "</style>\n",
              "\n",
              "  <script>\n",
              "    async function quickchart(key) {\n",
              "      const quickchartButtonEl =\n",
              "        document.querySelector('#' + key + ' button');\n",
              "      quickchartButtonEl.disabled = true;  // To prevent multiple clicks.\n",
              "      quickchartButtonEl.classList.add('colab-df-spinner');\n",
              "      try {\n",
              "        const charts = await google.colab.kernel.invokeFunction(\n",
              "            'suggestCharts', [key], {});\n",
              "      } catch (error) {\n",
              "        console.error('Error during call to suggestCharts:', error);\n",
              "      }\n",
              "      quickchartButtonEl.classList.remove('colab-df-spinner');\n",
              "      quickchartButtonEl.classList.add('colab-df-quickchart-complete');\n",
              "    }\n",
              "    (() => {\n",
              "      let quickchartButtonEl =\n",
              "        document.querySelector('#df-adff4075-6e8f-4d7a-af49-9b7ba5203562 button');\n",
              "      quickchartButtonEl.style.display =\n",
              "        google.colab.kernel.accessAllowed ? 'block' : 'none';\n",
              "    })();\n",
              "  </script>\n",
              "</div>\n",
              "\n",
              "    </div>\n",
              "  </div>\n"
            ],
            "application/vnd.google.colaboratory.intrinsic+json": {
              "type": "dataframe",
              "summary": "{\n  \"name\": \"df[['discount_percentage', 'discount_bin']]\",\n  \"rows\": 10,\n  \"fields\": [\n    {\n      \"column\": \"discount_percentage\",\n      \"properties\": {\n        \"dtype\": \"number\",\n        \"std\": 14.301349742050379,\n        \"min\": 11.11,\n        \"max\": 62.38,\n        \"num_unique_values\": 10,\n        \"samples\": [\n          53.5,\n          54.51,\n          54.46\n        ],\n        \"semantic_type\": \"\",\n        \"description\": \"\"\n      }\n    },\n    {\n      \"column\": \"discount_bin\",\n      \"properties\": {\n        \"dtype\": \"category\",\n        \"num_unique_values\": 2,\n        \"samples\": [\n          \"High\",\n          \"Medium\"\n        ],\n        \"semantic_type\": \"\",\n        \"description\": \"\"\n      }\n    }\n  ]\n}"
            }
          },
          "metadata": {},
          "execution_count": 87
        }
      ]
    },
    {
      "cell_type": "code",
      "source": [
        "category_counts = df['discount_bin'].value_counts()\n",
        "print(category_counts)"
      ],
      "metadata": {
        "colab": {
          "base_uri": "https://localhost:8080/"
        },
        "id": "g4stpIrzgt0-",
        "outputId": "269437f7-8b83-4850-c25f-6c4daa4e040e"
      },
      "execution_count": 88,
      "outputs": [
        {
          "output_type": "stream",
          "name": "stdout",
          "text": [
            "discount_bin\n",
            "High      3226\n",
            "Medium     488\n",
            "Low        261\n",
            "Name: count, dtype: int64\n"
          ]
        }
      ]
    },
    {
      "cell_type": "code",
      "source": [
        "df.shape"
      ],
      "metadata": {
        "colab": {
          "base_uri": "https://localhost:8080/"
        },
        "id": "NpsH83cAhPOY",
        "outputId": "fed43eca-52b7-4d73-b25e-9e55a1af6363"
      },
      "execution_count": 89,
      "outputs": [
        {
          "output_type": "execute_result",
          "data": {
            "text/plain": [
              "(3975, 8)"
            ]
          },
          "metadata": {},
          "execution_count": 89
        }
      ]
    },
    {
      "cell_type": "code",
      "source": [
        "min_size = df['discount_bin'].value_counts().min()\n",
        "\n",
        "low_df = df[df['discount_bin'] == 'Low']\n",
        "medium_df = df[df['discount_bin'] == 'Medium'].sample(min_size, random_state=1)\n",
        "high_df = df[df['discount_bin'] == 'High'].sample(min_size, random_state=1)\n",
        "\n",
        "df_balanced = pd.concat([low_df, medium_df, high_df]).reset_index(drop=True)\n",
        "\n",
        "print(df_balanced['discount_bin'].value_counts())\n",
        "\n"
      ],
      "metadata": {
        "id": "xKE9z293iwTk",
        "colab": {
          "base_uri": "https://localhost:8080/"
        },
        "outputId": "0d5b521f-e60f-4cae-fc4f-33d855180caf"
      },
      "execution_count": 90,
      "outputs": [
        {
          "output_type": "stream",
          "name": "stdout",
          "text": [
            "discount_bin\n",
            "Low       261\n",
            "Medium    261\n",
            "High      261\n",
            "Name: count, dtype: int64\n"
          ]
        }
      ]
    },
    {
      "cell_type": "code",
      "source": [
        "#Drop bin column\n",
        "df_balanced = df_balanced.drop(columns=['discount_bin'])\n",
        "\n",
        "print(df_balanced.head())"
      ],
      "metadata": {
        "colab": {
          "base_uri": "https://localhost:8080/"
        },
        "id": "b5QQko2B2AQu",
        "outputId": "044404e9-0224-423d-86cf-cb9f0abe28d0"
      },
      "execution_count": 91,
      "outputs": [
        {
          "output_type": "stream",
          "name": "stdout",
          "text": [
            "             timestamp                                              title  \\\n",
            "0  2025-03-19 10:27:36  DS18 Car Speakers Package 4x Speakers 6.5\" Mid...   \n",
            "1  2025-03-19 10:28:01  Apple iPhone 14 256GB Network Unlocked Excelle...   \n",
            "2  2025-03-19 10:28:04  Apple iPhone 12 Pro A2341 256GB Unlocked Good ...   \n",
            "3  2025-03-19 10:28:08  Apple MacBook Pro 13\" Late 2020 M1 1TB SSD 16G...   \n",
            "4  2025-03-19 20:27:26  Seagate Exos 24TB SATA HDD ST24000NM000C 7.2K ...   \n",
            "\n",
            "    price  original_price                   shipping  \\\n",
            "0  147.95          147.95  Shipping info unavailable   \n",
            "1  412.49          426.21  Shipping info unavailable   \n",
            "2  299.99          299.99  Shipping info unavailable   \n",
            "3  649.99          649.99  Shipping info unavailable   \n",
            "4  271.99          299.99              Free shipping   \n",
            "\n",
            "                                                 url  discount_percentage  \n",
            "0  https://www.ebay.com/itm/365374754988?_trkparm...                 0.00  \n",
            "1  https://www.ebay.com/itm/365374754988?_trkparm...                 3.22  \n",
            "2  https://www.ebay.com/itm/365374754988?_trkparm...                 0.00  \n",
            "3  https://www.ebay.com/itm/365374754988?_trkparm...                 0.00  \n",
            "4  https://www.ebay.com/itm/354233898171?_trkparm...                 9.33  \n"
          ]
        }
      ]
    },
    {
      "cell_type": "code",
      "source": [
        "\n",
        "X = df_balanced[[\"price\", \"original_price\", \"shipping\"]]\n",
        "y = df_balanced[\"discount_percentage\"]\n",
        "\n",
        "enc = OneHotEncoder()\n",
        "\n",
        "encoded_shipping = enc.fit_transform(X[['shipping']]).toarray()\n",
        "\n",
        "encoded_shipping_df = pd.DataFrame(encoded_shipping)\n",
        "\n",
        "X_encoded = pd.concat([X.drop('shipping', axis=1).reset_index(drop=True), encoded_shipping_df], axis=1)\n",
        "\n",
        "print(X_encoded.head(10))\n",
        "\n"
      ],
      "metadata": {
        "colab": {
          "base_uri": "https://localhost:8080/"
        },
        "id": "Bbfm5GXm4vVx",
        "outputId": "569c3c4c-76b4-486d-d974-2cacf769239c"
      },
      "execution_count": 92,
      "outputs": [
        {
          "output_type": "stream",
          "name": "stdout",
          "text": [
            "     price  original_price    0    1\n",
            "0   147.95          147.95  0.0  1.0\n",
            "1   412.49          426.21  0.0  1.0\n",
            "2   299.99          299.99  0.0  1.0\n",
            "3   649.99          649.99  0.0  1.0\n",
            "4   271.99          299.99  1.0  0.0\n",
            "5   299.99          299.99  1.0  0.0\n",
            "6  1125.99         1125.99  0.0  1.0\n",
            "7   402.50          426.21  0.0  1.0\n",
            "8   649.99          649.99  0.0  1.0\n",
            "9   402.50          426.21  0.0  1.0\n"
          ]
        }
      ]
    },
    {
      "cell_type": "code",
      "source": [
        "# Split the dataset into training (80%) and testing (20%) sets\n",
        "X_train, X_test, y_train, y_test = train_test_split(X_encoded, y, test_size=0.2, random_state=42)"
      ],
      "metadata": {
        "id": "FOgpcJCK9z61"
      },
      "execution_count": 93,
      "outputs": []
    },
    {
      "cell_type": "code",
      "source": [
        "model = LinearRegression()\n",
        "X_train.columns = X_train.columns.astype(str)\n",
        "X_test.columns = X_test.columns.astype(str)\n",
        "\n",
        "model.fit(X_train, y_train)\n",
        "\n",
        "y_pred = model.predict(X_test)\n",
        "\n",
        "# Evaluate the model\n",
        "mae = mean_absolute_error(y_test, y_pred)\n",
        "mse = mean_squared_error(y_test, y_pred)\n",
        "rmse = np.sqrt(mse)\n",
        "r2 = r2_score(y_test, y_pred)\n",
        "\n",
        "print(f\"Mean Absolute Error (MAE): {mae}\")\n",
        "print(f\"Mean Squared Error (MSE): {mse}\")\n",
        "print(f\"Root Mean Squared Error (RMSE): {rmse}\")\n",
        "print(f\"R-squared (R²): {r2}\")"
      ],
      "metadata": {
        "colab": {
          "base_uri": "https://localhost:8080/"
        },
        "id": "HmuWUf1t-zyw",
        "outputId": "c5c0d32f-9e72-4bb5-bf7c-b6afa1a470c9"
      },
      "execution_count": 94,
      "outputs": [
        {
          "output_type": "stream",
          "name": "stdout",
          "text": [
            "Mean Absolute Error (MAE): 11.393543401277364\n",
            "Mean Squared Error (MSE): 229.22694523724041\n",
            "Root Mean Squared Error (RMSE): 15.140242575244308\n",
            "R-squared (R²): 0.5849860173014556\n"
          ]
        }
      ]
    },
    {
      "cell_type": "code",
      "source": [
        "#MAE: MAE measures the average magnitude of the errors in a set of predictions,without considering their direction (whether the predictions are above or below the actual values).\n",
        "  #It represents the average absolute difference between the predicted values (y_pred) and the actual values (y_true).\n",
        "  #11.39 is relatively large error, suggesting that the model's predictions might not be very accurate in general."
      ],
      "metadata": {
        "id": "y0uZ8qunAWoT"
      },
      "execution_count": 95,
      "outputs": []
    },
    {
      "cell_type": "code",
      "source": [
        "#Mean Squared Error (MSE): 229.23\n",
        "  #MSE measures the average of the squared differences between the actual and predicted values. Since it squares the errors, it gives more weight to larger errors, making it more sensitive to outliers.\n",
        "  #The MSE value of 229.23 suggests that, on average, the squared differences between the actual and predicted discount_percentage are relatively large.\n",
        "  #This is another indication that the model might be overestimating or underestimating the discount_percentage by significant amounts"
      ],
      "metadata": {
        "id": "bwFhV_ykApZr"
      },
      "execution_count": 96,
      "outputs": []
    },
    {
      "cell_type": "code",
      "source": [
        "#Root Mean Squared Error (RMSE): 15.14\n",
        "  #RMSE is the square root of MSE. It brings the error back to the original units of the target variable, making it easier to interpret compared to MSE.\n",
        "  #The RMSE value of 15.14 means that, on average, the model's predictions are off by approximately 15.14 percentage points.\n",
        "  #This is a relatively large error, again indicating that the model may not be accurately predicting the discount_percentage across the data."
      ],
      "metadata": {
        "id": "DJHJQjXnB5RZ"
      },
      "execution_count": 97,
      "outputs": []
    },
    {
      "cell_type": "code",
      "source": [
        "#R-squared (R²): 0.585\n",
        "  #It measures how well the independent variables (features) explain the variability in the target variable.\n",
        "  #It compares the sum of squared errors from your model to the total sum of squared errors from a baseline model that always predicts the mean of the target variable.\n",
        "  #about 58.5% of the variance in the discount_percentage is explained by the model.\n",
        "  #This is a moderate value; it suggests that the model is capturing some of the patterns in the data, but there is still a significant portion of the variance (41.5%) that the model is not able to explain."
      ],
      "metadata": {
        "id": "1X9HLcPHCSQ4"
      },
      "execution_count": 98,
      "outputs": []
    },
    {
      "cell_type": "code",
      "source": [
        "# 1. Scatter Plot of Actual vs. Predicted Values\n",
        "plt.figure(figsize=(10, 6))\n",
        "plt.scatter(y_test, y_pred, color='skyblue', edgecolor='black')\n",
        "plt.title('Actual vs Predicted Discount Percentage')\n",
        "plt.xlabel('Actual Discount Percentage')\n",
        "plt.ylabel('Predicted Discount Percentage')\n",
        "plt.grid(True)\n",
        "plt.show()\n",
        "\n",
        "# 2. Residual Plot (Actual - Predicted)\n",
        "residuals = y_test - y_pred\n",
        "\n",
        "plt.figure(figsize=(10, 6))\n",
        "sns.residplot(x=y_pred, y=residuals, lowess=True, color='purple', line_kws={'color': 'red'})\n",
        "plt.title('Residual Plot')\n",
        "plt.xlabel('Predicted Discount Percentage')\n",
        "plt.ylabel('Residuals (Errors)')\n",
        "plt.grid(True)\n",
        "plt.show()\n"
      ],
      "metadata": {
        "colab": {
          "base_uri": "https://localhost:8080/",
          "height": 998
        },
        "id": "Z_QBMXIUCbHb",
        "outputId": "77fc7786-2f33-4888-c27b-9be6feedc4ec"
      },
      "execution_count": 99,
      "outputs": [
        {
          "output_type": "display_data",
          "data": {
            "text/plain": [
              "<Figure size 1000x600 with 1 Axes>"
            ],
            "image/png": "[encoded data removed]"
          },
          "metadata": {}
        },
        {
          "output_type": "display_data",
          "data": {
            "text/plain": [
              "<Figure size 1000x600 with 1 Axes>"
            ],
            "image/png": "[encoded data removed]"
          },
          "metadata": {}
        }
      ]
    },
    {
      "cell_type": "code",
      "source": [
        "# Applying the Model to Incomplete Data\n",
        "\n",
        "df_without_discount = df_balanced.drop(columns=['discount_percentage'])\n",
        "print(df_without_discount.head())\n"
      ],
      "metadata": {
        "colab": {
          "base_uri": "https://localhost:8080/"
        },
        "id": "8yTXZFi4EO8y",
        "outputId": "9da5f6ba-fa86-4dca-923f-603905b0cf2a"
      },
      "execution_count": 100,
      "outputs": [
        {
          "output_type": "stream",
          "name": "stdout",
          "text": [
            "             timestamp                                              title  \\\n",
            "0  2025-03-19 10:27:36  DS18 Car Speakers Package 4x Speakers 6.5\" Mid...   \n",
            "1  2025-03-19 10:28:01  Apple iPhone 14 256GB Network Unlocked Excelle...   \n",
            "2  2025-03-19 10:28:04  Apple iPhone 12 Pro A2341 256GB Unlocked Good ...   \n",
            "3  2025-03-19 10:28:08  Apple MacBook Pro 13\" Late 2020 M1 1TB SSD 16G...   \n",
            "4  2025-03-19 20:27:26  Seagate Exos 24TB SATA HDD ST24000NM000C 7.2K ...   \n",
            "\n",
            "    price  original_price                   shipping  \\\n",
            "0  147.95          147.95  Shipping info unavailable   \n",
            "1  412.49          426.21  Shipping info unavailable   \n",
            "2  299.99          299.99  Shipping info unavailable   \n",
            "3  649.99          649.99  Shipping info unavailable   \n",
            "4  271.99          299.99              Free shipping   \n",
            "\n",
            "                                                 url  \n",
            "0  https://www.ebay.com/itm/365374754988?_trkparm...  \n",
            "1  https://www.ebay.com/itm/365374754988?_trkparm...  \n",
            "2  https://www.ebay.com/itm/365374754988?_trkparm...  \n",
            "3  https://www.ebay.com/itm/365374754988?_trkparm...  \n",
            "4  https://www.ebay.com/itm/354233898171?_trkparm...  \n"
          ]
        }
      ]
    },
    {
      "cell_type": "code",
      "source": [
        "# Randomly select 20 products and retain the specified columns\n",
        "selected_columns = ['price', 'original_price', 'shipping', 'title']\n",
        "\n",
        "# If 'title' is available in the dataset, it will be included\n",
        "df_sample = df_without_discount[selected_columns].dropna().sample(n=20, random_state=1)\n",
        "\n",
        "# Display the selected sample\n",
        "print(df_sample)\n"
      ],
      "metadata": {
        "colab": {
          "base_uri": "https://localhost:8080/"
        },
        "id": "KwER76OHEnP_",
        "outputId": "a9e10b3a-1f6b-42c8-94da-3b0a8034398d"
      },
      "execution_count": 101,
      "outputs": [
        {
          "output_type": "stream",
          "name": "stdout",
          "text": [
            "       price  original_price                   shipping  \\\n",
            "703   402.00          649.95  Shipping info unavailable   \n",
            "265  1999.00         2665.00              Free shipping   \n",
            "111  1309.00         1309.00  Shipping info unavailable   \n",
            "301  2809.00         3149.00  Shipping info unavailable   \n",
            "339    89.00          112.82  Shipping info unavailable   \n",
            "558   439.99          999.00              Free shipping   \n",
            "638   479.99          999.00  Shipping info unavailable   \n",
            "202  1799.99         1999.99  Shipping info unavailable   \n",
            "546   167.99          279.99  Shipping info unavailable   \n",
            "679  1057.00         1999.99  Shipping info unavailable   \n",
            "223  1125.99         1125.99  Shipping info unavailable   \n",
            "763   734.00         1799.00  Shipping info unavailable   \n",
            "696   304.99          749.00              Free shipping   \n",
            "233  1799.99         1999.99  Shipping info unavailable   \n",
            "446  1219.99         1485.99  Shipping info unavailable   \n",
            "19    397.15          426.21  Shipping info unavailable   \n",
            "747    39.99           89.00  Shipping info unavailable   \n",
            "504   419.99          599.99  Shipping info unavailable   \n",
            "525   529.99         1099.00              Free shipping   \n",
            "483   419.99          599.99  Shipping info unavailable   \n",
            "\n",
            "                                                 title  \n",
            "703  Klipsch Reference Premiere RP-600M II Bookshel...  \n",
            "265  Lenovo Legion Pro 7 16IRX9H 16\" WQXGA 240Hz i9...  \n",
            "111  DJI Air 2S Fly More Pro Vlogger Combo with DJI...  \n",
            "301  DJI Mavic 3 Pro Fly More Super Combo with DJI ...  \n",
            "339  PHEANOO SoundBar for TV, 2.1 CH Soundbar with ...  \n",
            "558  Apple iPhone 14 Pro A2650 256GB Unlocked Very ...  \n",
            "638  Apple iPhone 15 A2846 128GB Unlocked Excellent...  \n",
            "202  Panasonic Lumix G9 II Mirrorless Black Camera ...  \n",
            "546  ECO-WORTHY 1920Wh 12V 150Ah LiFePO4 Lithium Ba...  \n",
            "679  BenQ TK700STi 3000-Lumen XPR 4K UHD Home Theat...  \n",
            "223  Acer Predator Helios Neo 16 16\" Gaming Noteboo...  \n",
            "763  BenQ GP500 4K HDR LED Smart Home Theater Proje...  \n",
            "696  Apple iPhone 14 128GB Network Unlocked Very Go...  \n",
            "233  Panasonic Lumix G9 II Mirrorless Black Camera ...  \n",
            "446  ASUS ROG Strix G16 16\" 165Hz i9-13980HX 16GB 1...  \n",
            "19   Apple iPhone 14 256GB Network Unlocked Excelle...  \n",
            "747  DJI Intelligent Battery for Mavic Air 2 / Air ...  \n",
            "504  ASUS ROG Ally 7\" AMD Ryzen Z1 EXTREME FHD 16GB...  \n",
            "525  Apple iPhone 14 Pro Max 128GB Network Unlocked...  \n",
            "483  ASUS ROG Ally 7\" AMD Ryzen Z1 EXTREME FHD 16GB...  \n"
          ]
        }
      ]
    },
    {
      "cell_type": "code",
      "source": [
        "\n",
        "X_new = df_sample[[\"price\", \"original_price\", \"shipping\"]]\n",
        "predicted_discounts = model.predict(X_new)\n",
        "\n",
        "# Add predictions to the sample\n",
        "sample_df[\"Predicted Discount (%)\"] = predicted_discounts.round(2)\n",
        "\n",
        "# Reorder and display as a clean table\n",
        "result_table = df_sample[[\"title\", \"price\", \"original_price\", \"shipping\", \"Predicted Discount (%)\"]]\n",
        "\n",
        "print(\"\\nPredicted Discount Percentages for 20 Products:\\n\")\n",
        "print(result_table.to_string(index=False))\n",
        "\n"
      ],
      "metadata": {
        "colab": {
          "base_uri": "https://localhost:8080/",
          "height": 460
        },
        "id": "0bAhcxUjFhXQ",
        "outputId": "ca0bcac0-86db-4376-c033-dc09b75283c8"
      },
      "execution_count": 113,
      "outputs": [
        {
          "output_type": "error",
          "ename": "ValueError",
          "evalue": "The feature names should match those that were passed during fit.\nFeature names unseen at fit time:\n- shipping\nFeature names seen at fit time, yet now missing:\n- 0\n- 1\n",
          "traceback": [
            "\u001b[0;31m---------------------------------------------------------------------------\u001b[0m",
            "\u001b[0;31mValueError\u001b[0m                                Traceback (most recent call last)",
            "\u001b[0;32m<ipython-input-113-43f4b58a3610>\u001b[0m in \u001b[0;36m<cell line: 0>\u001b[0;34m()\u001b[0m\n\u001b[1;32m      1\u001b[0m \u001b[0mX_new\u001b[0m \u001b[0;34m=\u001b[0m \u001b[0mdf_sample\u001b[0m\u001b[0;34m[\u001b[0m\u001b[0;34m[\u001b[0m\u001b[0;34m\"price\"\u001b[0m\u001b[0;34m,\u001b[0m \u001b[0;34m\"original_price\"\u001b[0m\u001b[0;34m,\u001b[0m \u001b[0;34m\"shipping\"\u001b[0m\u001b[0;34m]\u001b[0m\u001b[0;34m]\u001b[0m\u001b[0;34m\u001b[0m\u001b[0;34m\u001b[0m\u001b[0m\n\u001b[0;32m----> 2\u001b[0;31m \u001b[0mpredicted_discounts\u001b[0m \u001b[0;34m=\u001b[0m \u001b[0mmodel\u001b[0m\u001b[0;34m.\u001b[0m\u001b[0mpredict\u001b[0m\u001b[0;34m(\u001b[0m\u001b[0mX_new\u001b[0m\u001b[0;34m)\u001b[0m\u001b[0;34m\u001b[0m\u001b[0;34m\u001b[0m\u001b[0m\n\u001b[0m\u001b[1;32m      3\u001b[0m \u001b[0;34m\u001b[0m\u001b[0m\n\u001b[1;32m      4\u001b[0m \u001b[0;31m# Add predictions to the sample\u001b[0m\u001b[0;34m\u001b[0m\u001b[0;34m\u001b[0m\u001b[0m\n\u001b[1;32m      5\u001b[0m \u001b[0msample_df\u001b[0m\u001b[0;34m[\u001b[0m\u001b[0;34m\"Predicted Discount (%)\"\u001b[0m\u001b[0;34m]\u001b[0m \u001b[0;34m=\u001b[0m \u001b[0mpredicted_discounts\u001b[0m\u001b[0;34m.\u001b[0m\u001b[0mround\u001b[0m\u001b[0;34m(\u001b[0m\u001b[0;36m2\u001b[0m\u001b[0;34m)\u001b[0m\u001b[0;34m\u001b[0m\u001b[0;34m\u001b[0m\u001b[0m\n",
            "\u001b[0;32m/usr/local/lib/python3.11/dist-packages/sklearn/linear_model/_base.py\u001b[0m in \u001b[0;36mpredict\u001b[0;34m(self, X)\u001b[0m\n\u001b[1;32m    295\u001b[0m             \u001b[0mReturns\u001b[0m \u001b[0mpredicted\u001b[0m \u001b[0mvalues\u001b[0m\u001b[0;34m.\u001b[0m\u001b[0;34m\u001b[0m\u001b[0;34m\u001b[0m\u001b[0m\n\u001b[1;32m    296\u001b[0m         \"\"\"\n\u001b[0;32m--> 297\u001b[0;31m         \u001b[0;32mreturn\u001b[0m \u001b[0mself\u001b[0m\u001b[0;34m.\u001b[0m\u001b[0m_decision_function\u001b[0m\u001b[0;34m(\u001b[0m\u001b[0mX\u001b[0m\u001b[0;34m)\u001b[0m\u001b[0;34m\u001b[0m\u001b[0;34m\u001b[0m\u001b[0m\n\u001b[0m\u001b[1;32m    298\u001b[0m \u001b[0;34m\u001b[0m\u001b[0m\n\u001b[1;32m    299\u001b[0m     \u001b[0;32mdef\u001b[0m \u001b[0m_set_intercept\u001b[0m\u001b[0;34m(\u001b[0m\u001b[0mself\u001b[0m\u001b[0;34m,\u001b[0m \u001b[0mX_offset\u001b[0m\u001b[0;34m,\u001b[0m \u001b[0my_offset\u001b[0m\u001b[0;34m,\u001b[0m \u001b[0mX_scale\u001b[0m\u001b[0;34m)\u001b[0m\u001b[0;34m:\u001b[0m\u001b[0;34m\u001b[0m\u001b[0;34m\u001b[0m\u001b[0m\n",
            "\u001b[0;32m/usr/local/lib/python3.11/dist-packages/sklearn/linear_model/_base.py\u001b[0m in \u001b[0;36m_decision_function\u001b[0;34m(self, X)\u001b[0m\n\u001b[1;32m    274\u001b[0m         \u001b[0mcheck_is_fitted\u001b[0m\u001b[0;34m(\u001b[0m\u001b[0mself\u001b[0m\u001b[0;34m)\u001b[0m\u001b[0;34m\u001b[0m\u001b[0;34m\u001b[0m\u001b[0m\n\u001b[1;32m    275\u001b[0m \u001b[0;34m\u001b[0m\u001b[0m\n\u001b[0;32m--> 276\u001b[0;31m         \u001b[0mX\u001b[0m \u001b[0;34m=\u001b[0m \u001b[0mvalidate_data\u001b[0m\u001b[0;34m(\u001b[0m\u001b[0mself\u001b[0m\u001b[0;34m,\u001b[0m \u001b[0mX\u001b[0m\u001b[0;34m,\u001b[0m \u001b[0maccept_sparse\u001b[0m\u001b[0;34m=\u001b[0m\u001b[0;34m[\u001b[0m\u001b[0;34m\"csr\"\u001b[0m\u001b[0;34m,\u001b[0m \u001b[0;34m\"csc\"\u001b[0m\u001b[0;34m,\u001b[0m \u001b[0;34m\"coo\"\u001b[0m\u001b[0;34m]\u001b[0m\u001b[0;34m,\u001b[0m \u001b[0mreset\u001b[0m\u001b[0;34m=\u001b[0m\u001b[0;32mFalse\u001b[0m\u001b[0;34m)\u001b[0m\u001b[0;34m\u001b[0m\u001b[0;34m\u001b[0m\u001b[0m\n\u001b[0m\u001b[1;32m    277\u001b[0m         \u001b[0mcoef_\u001b[0m \u001b[0;34m=\u001b[0m \u001b[0mself\u001b[0m\u001b[0;34m.\u001b[0m\u001b[0mcoef_\u001b[0m\u001b[0;34m\u001b[0m\u001b[0;34m\u001b[0m\u001b[0m\n\u001b[1;32m    278\u001b[0m         \u001b[0;32mif\u001b[0m \u001b[0mcoef_\u001b[0m\u001b[0;34m.\u001b[0m\u001b[0mndim\u001b[0m \u001b[0;34m==\u001b[0m \u001b[0;36m1\u001b[0m\u001b[0;34m:\u001b[0m\u001b[0;34m\u001b[0m\u001b[0;34m\u001b[0m\u001b[0m\n",
            "\u001b[0;32m/usr/local/lib/python3.11/dist-packages/sklearn/utils/validation.py\u001b[0m in \u001b[0;36mvalidate_data\u001b[0;34m(_estimator, X, y, reset, validate_separately, skip_check_array, **check_params)\u001b[0m\n\u001b[1;32m   2917\u001b[0m         \u001b[0mvalidated\u001b[0m\u001b[0;34m.\u001b[0m\u001b[0;34m\u001b[0m\u001b[0;34m\u001b[0m\u001b[0m\n\u001b[1;32m   2918\u001b[0m     \"\"\"\n\u001b[0;32m-> 2919\u001b[0;31m     \u001b[0m_check_feature_names\u001b[0m\u001b[0;34m(\u001b[0m\u001b[0m_estimator\u001b[0m\u001b[0;34m,\u001b[0m \u001b[0mX\u001b[0m\u001b[0;34m,\u001b[0m \u001b[0mreset\u001b[0m\u001b[0;34m=\u001b[0m\u001b[0mreset\u001b[0m\u001b[0;34m)\u001b[0m\u001b[0;34m\u001b[0m\u001b[0;34m\u001b[0m\u001b[0m\n\u001b[0m\u001b[1;32m   2920\u001b[0m     \u001b[0mtags\u001b[0m \u001b[0;34m=\u001b[0m \u001b[0mget_tags\u001b[0m\u001b[0;34m(\u001b[0m\u001b[0m_estimator\u001b[0m\u001b[0;34m)\u001b[0m\u001b[0;34m\u001b[0m\u001b[0;34m\u001b[0m\u001b[0m\n\u001b[1;32m   2921\u001b[0m     \u001b[0;32mif\u001b[0m \u001b[0my\u001b[0m \u001b[0;32mis\u001b[0m \u001b[0;32mNone\u001b[0m \u001b[0;32mand\u001b[0m \u001b[0mtags\u001b[0m\u001b[0;34m.\u001b[0m\u001b[0mtarget_tags\u001b[0m\u001b[0;34m.\u001b[0m\u001b[0mrequired\u001b[0m\u001b[0;34m:\u001b[0m\u001b[0;34m\u001b[0m\u001b[0;34m\u001b[0m\u001b[0m\n",
            "\u001b[0;32m/usr/local/lib/python3.11/dist-packages/sklearn/utils/validation.py\u001b[0m in \u001b[0;36m_check_feature_names\u001b[0;34m(estimator, X, reset)\u001b[0m\n\u001b[1;32m   2775\u001b[0m             \u001b[0mmessage\u001b[0m \u001b[0;34m+=\u001b[0m \u001b[0;34m\"Feature names must be in the same order as they were in fit.\\n\"\u001b[0m\u001b[0;34m\u001b[0m\u001b[0;34m\u001b[0m\u001b[0m\n\u001b[1;32m   2776\u001b[0m \u001b[0;34m\u001b[0m\u001b[0m\n\u001b[0;32m-> 2777\u001b[0;31m         \u001b[0;32mraise\u001b[0m \u001b[0mValueError\u001b[0m\u001b[0;34m(\u001b[0m\u001b[0mmessage\u001b[0m\u001b[0;34m)\u001b[0m\u001b[0;34m\u001b[0m\u001b[0;34m\u001b[0m\u001b[0m\n\u001b[0m\u001b[1;32m   2778\u001b[0m \u001b[0;34m\u001b[0m\u001b[0m\n\u001b[1;32m   2779\u001b[0m \u001b[0;34m\u001b[0m\u001b[0m\n",
            "\u001b[0;31mValueError\u001b[0m: The feature names should match those that were passed during fit.\nFeature names unseen at fit time:\n- shipping\nFeature names seen at fit time, yet now missing:\n- 0\n- 1\n"
          ]
        }
      ]
    }
  ]
}